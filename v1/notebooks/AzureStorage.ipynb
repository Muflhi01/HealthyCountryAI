{
 "cells": [
  {
   "cell_type": "code",
   "execution_count": null,
   "metadata": {
    "scrolled": false
   },
   "outputs": [],
   "source": [
    "from azure.common import AzureMissingResourceHttpError\n",
    "from azure.storage.blob import BlockBlobService, PublicAccess\n",
    "from azure.storage.file import FileService\n",
    "from azure.storage.table import TableService, Entity"
   ]
  },
  {
   "cell_type": "code",
   "execution_count": null,
   "metadata": {
    "scrolled": false
   },
   "outputs": [],
   "source": [
    "#Blob Service...\n",
    "def get_block_blob_service(account_name, storage_key):\n",
    "    return BlockBlobService(account_name=account_name, account_key=storage_key)\n",
    "\n",
    "def blob_service_create_container(account_name, storage_key, container_name):\n",
    "    containers = blob_service_list_containers(account_name, storage_key)\n",
    "    if container_name not in containers:\n",
    "        block_blob_service = get_block_blob_service(account_name, storage_key)\n",
    "        block_blob_service.create_container(container_name)\n",
    "        block_blob_service.set_container_acl(container_name, public_access=PublicAccess.Container)\n",
    "\n",
    "def blob_service_create_blob_from_bytes(account_name, storage_key, container_name, blob_name, blob):\n",
    "    block_blob_service = get_block_blob_service(account_name, storage_key)\n",
    "    block_blob_service.create_blob_from_bytes(container_name, blob_name, blob)\n",
    "\n",
    "def blob_service_get_blob_to_path(account_name, storage_key, container_name, blob_name, file_path):\n",
    "    block_blob_service = get_block_blob_service(account_name, storage_key)\n",
    "    block_blob_service.get_blob_to_path(container_name, blob_name, file_path)\n",
    "\n",
    "def blob_service_insert(account_name, storage_key, container_name, blob_name, text):\n",
    "    block_blob_service = get_block_blob_service(account_name, storage_key)\n",
    "    block_blob_service.create_blob_from_text(container_name, blob_name, text)\n",
    "\n",
    "def blob_service_list_blobs(account_name, storage_key, container_name):\n",
    "    blobs = []\n",
    "    block_blob_service = get_block_blob_service(account_name, storage_key)\n",
    "    generator = block_blob_service.list_blobs(container_name)\n",
    "    for blob in generator:\n",
    "        blobs.append(blob.name)\n",
    "    return blobs\n",
    "\n",
    "def blob_service_list_containers(account_name, storage_key):\n",
    "    containers = []\n",
    "    block_blob_service = get_block_blob_service(account_name, storage_key)\n",
    "    generator = block_blob_service.list_containers()\n",
    "    for container in generator:\n",
    "        containers.append(container.name)\n",
    "    return containers\n",
    "\n",
    "# File Service...\n",
    "def get_file_service(account_name, storage_key):\n",
    "    return FileService(account_name=account_name, account_key=storage_key)\n",
    "\n",
    "def file_service_list_directories_and_files(account_name, storage_key, share_name, directory_name):\n",
    "    file_or_dirs = []\n",
    "    file_service = get_file_service(account_name, storage_key)\n",
    "    generator = file_service.list_directories_and_files(share_name, directory_name)\n",
    "    for file_or_dir in generator:\n",
    "        file_or_dirs.append(file_or_dir.name)\n",
    "    return file_or_dirs\n",
    "\n",
    "# Table Service...\n",
    "def get_table_service(account_name, storage_key):\n",
    "    return TableService(account_name=account_name, account_key=storage_key)\n",
    "\n",
    "def table_service_get_entity(account_name, storage_key, table, partition_key, row_key):\n",
    "    table_service = get_table_service(account_name, storage_key)\n",
    "    return table_service.get_entity(table, partition_key, row_key)\n",
    "\n",
    "def table_service_insert(account_name, storage_key, table, entity):\n",
    "    table_service = get_table_service(account_name, storage_key)\n",
    "    table_service.insert_entity(table, entity)\n",
    "    \n",
    "def table_service_query_entities(account_name, storage_key, table, filter):\n",
    "    table_service = get_table_service(account_name, storage_key)\n",
    "    return table_service.query_entities(table, filter)"
   ]
  },
  {
   "cell_type": "code",
   "execution_count": null,
   "metadata": {
    "scrolled": false
   },
   "outputs": [],
   "source": []
  }
 ],
 "metadata": {
  "kernelspec": {
   "display_name": "Python 3",
   "language": "python",
   "name": "python3"
  },
  "language_info": {
   "codemirror_mode": {
    "name": "ipython",
    "version": 3
   },
   "file_extension": ".py",
   "mimetype": "text/x-python",
   "name": "python",
   "nbconvert_exporter": "python",
   "pygments_lexer": "ipython3",
   "version": "3.6.5"
  }
 },
 "nbformat": 4,
 "nbformat_minor": 2
}
