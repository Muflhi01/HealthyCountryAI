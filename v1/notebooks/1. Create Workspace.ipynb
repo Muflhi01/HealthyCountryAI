{
 "cells": [
  {
   "cell_type": "code",
   "execution_count": 1,
   "metadata": {},
   "outputs": [
    {
     "name": "stdout",
     "output_type": "stream",
     "text": [
      "1.0.57\n"
     ]
    }
   ],
   "source": [
    "import azureml.core, os\n",
    "print(azureml.core.VERSION)\n",
    "\n",
    "from azureml.core import Workspace\n",
    "\n",
    "from dotenv import load_dotenv"
   ]
  },
  {
   "cell_type": "raw",
   "metadata": {},
   "source": [
    "%%writefile .env\n",
    "SUBSCRIPTION_ID=<Subscription Id>"
   ]
  },
  {
   "cell_type": "code",
   "execution_count": 2,
   "metadata": {},
   "outputs": [],
   "source": [
    "load_dotenv('.env')\n",
    "\n",
    "SUBSCRIPTION_ID = os.environ.get(\"SUBSCRIPTION_ID\")"
   ]
  },
  {
   "cell_type": "code",
   "execution_count": 4,
   "metadata": {},
   "outputs": [
    {
     "name": "stderr",
     "output_type": "stream",
     "text": [
      "WARNING - Warning: Falling back to use azure cli login credentials.\n",
      "If you run your code in unattended mode, i.e., where you can't give a user input, then we recommend to use ServicePrincipalAuthentication or MsiAuthentication.\n",
      "Please refer to aka.ms/aml-notebook-auth for different authentication mechanisms in azureml-sdk.\n"
     ]
    },
    {
     "name": "stdout",
     "output_type": "stream",
     "text": [
      "Deploying KeyVault with name healthyhkeyvaultb628513d.\n",
      "Deploying StorageAccount with name healthyhstorage747394db3.\n",
      "Deploying AppInsights with name healthyhinsightsa6e4b36b.\n",
      "Deployed AppInsights with name healthyhinsightsa6e4b36b. Took 10.31 seconds.\n",
      "Deployed KeyVault with name healthyhkeyvaultb628513d. Took 18.88 seconds.\n",
      "Deployed StorageAccount with name healthyhstorage747394db3. Took 21.79 seconds.\n",
      "Deploying Workspace with name HealthyHabitatAI.\n",
      "Deployed Workspace with name HealthyHabitatAI. Took 324.31 seconds.\n"
     ]
    }
   ],
   "source": [
    "ws = Workspace.create(name='HealthyHabitatAI',\n",
    "                      subscription_id=SUBSCRIPTION_ID,\n",
    "                      resource_group='HealthyHabitatAI',\n",
    "                      create_resource_group=False,\n",
    "                      location='australiaeast')"
   ]
  },
  {
   "cell_type": "raw",
   "metadata": {},
   "source": [
    "ws = Workspace(subscription_id=SUBSCRIPTION_ID,\n",
    "               resource_group='HealthyHabitatAI',\n",
    "               workspace_name='HealthyHabitatAI')"
   ]
  },
  {
   "cell_type": "code",
   "execution_count": 5,
   "metadata": {},
   "outputs": [
    {
     "data": {
      "text/plain": [
       "{'id': '/subscriptions/3191ba83-be2b-4b29-8409-f06e2fbb65bd/resourceGroups/HealthyHabitatAI/providers/Microsoft.MachineLearningServices/workspaces/HealthyHabitatAI',\n",
       " 'name': 'HealthyHabitatAI',\n",
       " 'location': 'australiaeast',\n",
       " 'type': 'Microsoft.MachineLearningServices/workspaces',\n",
       " 'workspaceid': 'e50cd860-6eb7-4bb9-ad65-f2caba99fd39',\n",
       " 'description': '',\n",
       " 'friendlyName': 'HealthyHabitatAI',\n",
       " 'creationTime': '2019-10-24T09:22:24.9106833+00:00',\n",
       " 'keyVault': '/subscriptions/3191ba83-be2b-4b29-8409-f06e2fbb65bd/resourcegroups/healthyhabitatai/providers/microsoft.keyvault/vaults/healthyhkeyvaultb628513d',\n",
       " 'applicationInsights': '/subscriptions/3191ba83-be2b-4b29-8409-f06e2fbb65bd/resourcegroups/healthyhabitatai/providers/microsoft.insights/components/healthyhinsightsa6e4b36b',\n",
       " 'identityPrincipalId': '61ac39b9-96bc-45a9-8842-f9f4a74517d8',\n",
       " 'identityTenantId': '72f988bf-86f1-41af-91ab-2d7cd011db47',\n",
       " 'identityType': 'SystemAssigned',\n",
       " 'storageAccount': '/subscriptions/3191ba83-be2b-4b29-8409-f06e2fbb65bd/resourcegroups/healthyhabitatai/providers/microsoft.storage/storageaccounts/healthyhstorage747394db3'}"
      ]
     },
     "execution_count": 5,
     "metadata": {},
     "output_type": "execute_result"
    }
   ],
   "source": [
    "ws.get_details()"
   ]
  },
  {
   "cell_type": "code",
   "execution_count": 6,
   "metadata": {},
   "outputs": [],
   "source": [
    "ws.write_config()"
   ]
  },
  {
   "cell_type": "code",
   "execution_count": null,
   "metadata": {},
   "outputs": [],
   "source": []
  }
 ],
 "metadata": {
  "kernelspec": {
   "display_name": "Python 3",
   "language": "python",
   "name": "python3"
  },
  "language_info": {
   "codemirror_mode": {
    "name": "ipython",
    "version": 3
   },
   "file_extension": ".py",
   "mimetype": "text/x-python",
   "name": "python",
   "nbconvert_exporter": "python",
   "pygments_lexer": "ipython3",
   "version": "3.6.5"
  }
 },
 "nbformat": 4,
 "nbformat_minor": 2
}
