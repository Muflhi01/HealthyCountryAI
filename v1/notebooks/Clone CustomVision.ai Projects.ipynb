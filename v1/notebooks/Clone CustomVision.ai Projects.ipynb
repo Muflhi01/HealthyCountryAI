{
 "cells": [
  {
   "cell_type": "code",
   "execution_count": 1,
   "metadata": {},
   "outputs": [
    {
     "name": "stdout",
     "output_type": "stream",
     "text": [
      "C:\\Source\\CSIRO\\HealthyHabitatAI\\.env\n",
      "healthyhabitatanimals\n",
      "healthyhabitatparragrass\n",
      "ghNvkPl4DYLUUJh55y4pSg3BVV8TtPcHcX96P/zaDPXr9uuREdkGSCaao59d6xfZOfg4l9um1qfBXuNM9VGTTg==\n",
      "jpEJGrFNi6PNLGOOD62rFBxjHGKTR4+DcppQNQQXi3P/GFmINKfqf8EZJoo73doIAnntv03ZSUsAC442IRR87Q==\n",
      "processed\n",
      "processed\n",
      "f8fc2cd4db6b45a59d1ddd69a8685ddd\n",
      "4610573e-864f-4f53-9f6a-c61ce520ed5a\n",
      "5aeb092f-e91d-400f-bd88-e9516b108f20\n"
     ]
    }
   ],
   "source": [
    "%run Common.ipynb"
   ]
  },
  {
   "cell_type": "code",
   "execution_count": 2,
   "metadata": {},
   "outputs": [],
   "source": [
    "import numpy as np\n",
    "import matplotlib.pyplot as plt\n",
    "\n",
    "from azure.cognitiveservices.vision.customvision.training import CustomVisionTrainingClient\n",
    "from azure.cognitiveservices.vision.customvision.training.models import ImageFileCreateEntry\n",
    "from PIL import Image"
   ]
  },
  {
   "cell_type": "markdown",
   "metadata": {},
   "source": [
    "### Custom Vision"
   ]
  },
  {
   "cell_type": "markdown",
   "metadata": {},
   "source": [
    "#### Create Trainers"
   ]
  },
  {
   "cell_type": "code",
   "execution_count": 3,
   "metadata": {},
   "outputs": [
    {
     "name": "stdout",
     "output_type": "stream",
     "text": [
      "f8fc2cd4db6b45a59d1ddd69a8685ddd\n",
      "190ee425b5d9441f916dfbc6246fc631\n"
     ]
    }
   ],
   "source": [
    "ENDPOINT = 'https://australiaeast.api.cognitive.microsoft.com'\n",
    "\n",
    "from_custom_vision_training_key=os.getenv('FROM_CUSTOM_VISION_TRAINING_KEY')\n",
    "print(from_custom_vision_training_key)\n",
    "\n",
    "to_custom_vision_training_key=os.getenv('TO_CUSTOM_VISION_TRAINING_KEY')\n",
    "print(to_custom_vision_training_key)\n",
    "\n",
    "from_trainer = CustomVisionTrainingClient(from_custom_vision_training_key, endpoint=ENDPOINT)\n",
    "to_trainer = CustomVisionTrainingClient(to_custom_vision_training_key, endpoint=ENDPOINT)"
   ]
  },
  {
   "cell_type": "code",
   "execution_count": 15,
   "metadata": {},
   "outputs": [
    {
     "name": "stdout",
     "output_type": "stream",
     "text": [
      "da2e3a8a-40a5-4171-82f4-58522f70fbc1\n",
      "ee85a74c-405e-4adc-bb47-ffa8ca0c9f31\n"
     ]
    }
   ],
   "source": [
    "object_detection_domain_id = next(domain.id for domain in from_trainer.get_domains() if domain.type == \"ObjectDetection\" and domain.name == \"General\")\n",
    "print(object_detection_domain_id)\n",
    "\n",
    "classification_domain_id = next(domain.id for domain in from_trainer.get_domains() if domain.type == \"Classification\" and domain.name == \"General\")\n",
    "print(classification_domain_id)"
   ]
  },
  {
   "cell_type": "markdown",
   "metadata": {},
   "source": [
    "#### Clone Projects"
   ]
  },
  {
   "cell_type": "code",
   "execution_count": 18,
   "metadata": {},
   "outputs": [],
   "source": [
    "projects = from_trainer.get_projects()\n",
    "\n",
    "for project in projects:\n",
    "    project = to_trainer.create_project(name=project.name, domain_id=project.settings.domain_id, classification_type=project.settings.classification_type)"
   ]
  },
  {
   "cell_type": "code",
   "execution_count": null,
   "metadata": {},
   "outputs": [],
   "source": []
  }
 ],
 "metadata": {
  "kernelspec": {
   "display_name": "Python 3",
   "language": "python",
   "name": "python3"
  },
  "language_info": {
   "codemirror_mode": {
    "name": "ipython",
    "version": 3
   },
   "file_extension": ".py",
   "mimetype": "text/x-python",
   "name": "python",
   "nbconvert_exporter": "python",
   "pygments_lexer": "ipython3",
   "version": "3.6.5"
  }
 },
 "nbformat": 4,
 "nbformat_minor": 2
}
