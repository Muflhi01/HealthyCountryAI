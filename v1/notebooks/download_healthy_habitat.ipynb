{
 "cells": [
  {
   "cell_type": "code",
   "execution_count": 1,
   "metadata": {},
   "outputs": [],
   "source": [
    "from pathlib import Path\n",
    "import json\n",
    "import os\n",
    "import requests\n",
    "from PIL import Image\n",
    "import io\n",
    "import numpy as np"
   ]
  },
  {
   "cell_type": "code",
   "execution_count": 7,
   "metadata": {},
   "outputs": [],
   "source": [
    "# change to match\n",
    "\n",
    "path = Path('/data/home/svanbodegraven/notebooks/HealthyHabitatAI/notebooks/data/HealthyHabitat')\n",
    "if not os.path.exists(path):\n",
    "    os.mkdir(path)\n",
    "masks_path = os.path.join(path, 'trainannot')\n",
    "if not os.path.exists(masks_path):\n",
    "    os.mkdir(masks_path)\n",
    "images_path = os.path.join(path, 'train')\n",
    "if not os.path.exists(images_path):\n",
    "    os.mkdir(images_path)"
   ]
  },
  {
   "cell_type": "code",
   "execution_count": 8,
   "metadata": {},
   "outputs": [],
   "source": [
    "# provide latest export file\n",
    "export_file_path = os.path.join(path, 'export-2019-11-18T22_07_39.636Z.json')"
   ]
  },
  {
   "cell_type": "code",
   "execution_count": 9,
   "metadata": {},
   "outputs": [
    {
     "name": "stdout",
     "output_type": "stream",
     "text": [
      "Downloading /data/home/svanbodegraven/notebooks/HealthyHabitatAI/notebooks/data/HealthyHabitat/train/DJI_0474.png...\n",
      "Downloading /data/home/svanbodegraven/notebooks/HealthyHabitatAI/notebooks/data/HealthyHabitat/train/DJI_0118.png...\n",
      "Downloading /data/home/svanbodegraven/notebooks/HealthyHabitatAI/notebooks/data/HealthyHabitat/train/DJI_0150.png...\n",
      "Downloading /data/home/svanbodegraven/notebooks/HealthyHabitatAI/notebooks/data/HealthyHabitat/train/DJI_0182.png...\n",
      "Downloading /data/home/svanbodegraven/notebooks/HealthyHabitatAI/notebooks/data/HealthyHabitat/train/DJI_0214.png...\n",
      "Downloading /data/home/svanbodegraven/notebooks/HealthyHabitatAI/notebooks/data/HealthyHabitat/train/DJI_0280.png...\n",
      "Downloading /data/home/svanbodegraven/notebooks/HealthyHabitatAI/notebooks/data/HealthyHabitat/train/DJI_0312.png...\n",
      "Downloading /data/home/svanbodegraven/notebooks/HealthyHabitatAI/notebooks/data/HealthyHabitat/train/DJI_0377.png...\n",
      "Downloading /data/home/svanbodegraven/notebooks/HealthyHabitatAI/notebooks/data/HealthyHabitat/train/DJI_0410.png...\n",
      "Downloading /data/home/svanbodegraven/notebooks/HealthyHabitatAI/notebooks/data/HealthyHabitat/train/DJI_0442.png...\n",
      "Downloading /data/home/svanbodegraven/notebooks/HealthyHabitatAI/notebooks/data/HealthyHabitat/train/DJI_0477.png...\n",
      "Downloading /data/home/svanbodegraven/notebooks/HealthyHabitatAI/notebooks/data/HealthyHabitat/train/DJI_0574.png...\n",
      "Downloading /data/home/svanbodegraven/notebooks/HealthyHabitatAI/notebooks/data/HealthyHabitat/train/DJI_0025.png...\n",
      "Downloading /data/home/svanbodegraven/notebooks/HealthyHabitatAI/notebooks/data/HealthyHabitat/train/DJI_0153.png...\n",
      "Downloading /data/home/svanbodegraven/notebooks/HealthyHabitatAI/notebooks/data/HealthyHabitat/train/DJI_0185.png...\n",
      "Downloading /data/home/svanbodegraven/notebooks/HealthyHabitatAI/notebooks/data/HealthyHabitat/train/DJI_0283.png...\n",
      "Downloading /data/home/svanbodegraven/notebooks/HealthyHabitatAI/notebooks/data/HealthyHabitat/train/DJI_0348.png...\n",
      "Downloading /data/home/svanbodegraven/notebooks/HealthyHabitatAI/notebooks/data/HealthyHabitat/train/DJI_0380.png...\n",
      "Downloading /data/home/svanbodegraven/notebooks/HealthyHabitatAI/notebooks/data/HealthyHabitat/train/DJI_0445.png...\n",
      "Downloading /data/home/svanbodegraven/notebooks/HealthyHabitatAI/notebooks/data/HealthyHabitat/train/DJI_0577.png...\n",
      "Downloading /data/home/svanbodegraven/notebooks/HealthyHabitatAI/notebooks/data/HealthyHabitat/train/DJI_0028.png...\n",
      "Downloading /data/home/svanbodegraven/notebooks/HealthyHabitatAI/notebooks/data/HealthyHabitat/train/DJI_0286.png...\n",
      "Downloading /data/home/svanbodegraven/notebooks/HealthyHabitatAI/notebooks/data/HealthyHabitat/train/DJI_0318.png...\n",
      "Downloading /data/home/svanbodegraven/notebooks/HealthyHabitatAI/notebooks/data/HealthyHabitat/train/DJI_0383.png...\n",
      "Downloading /data/home/svanbodegraven/notebooks/HealthyHabitatAI/notebooks/data/HealthyHabitat/train/DJI_0448.png...\n",
      "Downloading /data/home/svanbodegraven/notebooks/HealthyHabitatAI/notebooks/data/HealthyHabitat/train/DJI_0580.png...\n",
      "Downloading /data/home/svanbodegraven/notebooks/HealthyHabitatAI/notebooks/data/HealthyHabitat/train/DJI_0289.png...\n",
      "Downloading /data/home/svanbodegraven/notebooks/HealthyHabitatAI/notebooks/data/HealthyHabitat/train/DJI_0451.png...\n",
      "Downloading /data/home/svanbodegraven/notebooks/HealthyHabitatAI/notebooks/data/HealthyHabitat/train/DJI_0066.png...\n",
      "Downloading /data/home/svanbodegraven/notebooks/HealthyHabitatAI/notebooks/data/HealthyHabitat/train/DJI_0197.png...\n",
      "Downloading /data/home/svanbodegraven/notebooks/HealthyHabitatAI/notebooks/data/HealthyHabitat/train/DJI_0230.png...\n",
      "Downloading /data/home/svanbodegraven/notebooks/HealthyHabitatAI/notebooks/data/HealthyHabitat/train/DJI_0233.png...\n",
      "Downloading /data/home/svanbodegraven/notebooks/HealthyHabitatAI/notebooks/data/HealthyHabitat/train/DJI_0298.png...\n",
      "Downloading /data/home/svanbodegraven/notebooks/HealthyHabitatAI/notebooks/data/HealthyHabitat/train/DJI_0330.png...\n",
      "Downloading /data/home/svanbodegraven/notebooks/HealthyHabitatAI/notebooks/data/HealthyHabitat/train/DJI_0428.png...\n",
      "Downloading /data/home/svanbodegraven/notebooks/HealthyHabitatAI/notebooks/data/HealthyHabitat/train/DJI_0301.png...\n",
      "Downloading /data/home/svanbodegraven/notebooks/HealthyHabitatAI/notebooks/data/HealthyHabitat/train/DJI_0333.png...\n"
     ]
    }
   ],
   "source": [
    "# static mapping of colour to classes\n",
    "healthy_habitat_colours = {\"bare_ground\" : [255, 0, 0],\n",
    "                           \"burnt_para_grass\" : [255, 165, 0],\n",
    "                           \"dead_para_grass\" : [255, 255, 0],\n",
    "                           \"dense_para_grass\" : [154, 205, 50],\n",
    "                           \"other_grass\" : [0, 128, 128],\n",
    "                           \"lily\" : [0,128,0],\n",
    "                           \"para_grass\" : [0, 255, 255],\n",
    "                           \"tree\" : [173, 216, 230],\n",
    "                           \"water\" : [0, 0, 255],\n",
    "                           \"wet_para_grass\" : [128, 0, 128],\n",
    "                           \"unlabelled\" : [0, 0, 0]}  \n",
    "\n",
    "def mask_merge(new_img, mask):\n",
    "    updated_img = np.asarray(new_img.convert('RGB')).copy()\n",
    "    maskR = updated_img[:, :, 0] > 0\n",
    "    maskG = updated_img[:, :, 1] > 0\n",
    "    maskB = updated_img[:, :, 2] > 0\n",
    "    updated_img[maskR] = healthy_habitat_colours[mask]\n",
    "    updated_img[maskG] = healthy_habitat_colours[mask]\n",
    "    updated_img[maskB] = healthy_habitat_colours[mask]\n",
    "    return updated_img\n",
    "\n",
    "# download both files and masks\n",
    "# check for files\n",
    "with open(export_file_path, 'r') as export_file:\n",
    "    data = json.load(export_file)\n",
    "    for row in data:\n",
    "        if (len(row['Label']['objects']) > 0): # export.json also contains images that haven't been labelled, so just pick out images with labels\n",
    "            # download source image\n",
    "            image_url = row['Labeled Data']\n",
    "            image_name = image_url.split('?')[0].split('-')[-1]\n",
    "            parts = image_name.split('.')\n",
    "            image_name = '{0}.{1}'.format(parts[0], 'png')\n",
    "            image_path = os.path.join(images_path, image_name)\n",
    "            if not os.path.exists(image_path):\n",
    "                print('Downloading {0}...'.format(image_path))\n",
    "                response = requests.get(image_url)\n",
    "                image = Image.open(io.BytesIO(response.content))\n",
    "                image = image.convert('RGB')\n",
    "                image.save(image_path)\n",
    "            else:\n",
    "                print('{0} exists.'.format(image_path))               \n",
    "            #create empty mask to fill with json values\n",
    "            width, height = image.size\n",
    "            num_classes = len(healthy_habitat_colours)\n",
    "            #combined_mask = np.zeros([width,height,num_classes])\n",
    "            combined_mask = np.zeros([width,height,3], dtype=np.uint8)\n",
    "            # download masks and combine\n",
    "            for object in row['Label']['objects']:\n",
    "                parts = image_name.split('.')\n",
    "                mask_name = '{0}.{1}'.format(parts[0], 'png')\n",
    "                mask_path = os.path.join(masks_path, mask_name)         \n",
    "                mask_class = object['value']\n",
    "                response = requests.get(object['instanceURI'])\n",
    "                new_img = Image.open(io.BytesIO(response.content))\n",
    "                mask_img = mask_merge(new_img, mask_class)\n",
    "                combined_mask = combined_mask + mask_img\n",
    "            Image.fromarray(combined_mask).save(mask_path)  "
   ]
  },
  {
   "cell_type": "code",
   "execution_count": 11,
   "metadata": {},
   "outputs": [],
   "source": [
    "file_list = os.listdir(images_path)"
   ]
  },
  {
   "cell_type": "code",
   "execution_count": 32,
   "metadata": {},
   "outputs": [],
   "source": [
    "import random\n",
    "\n",
    "path = Path('/data/home/svanbodegraven/notebooks/HealthyHabitatAI/notebooks/data/HealthyHabitat')\n",
    "if not os.path.exists(path):\n",
    "    os.mkdir(path)\n",
    "masks_path = os.path.join(path, 'trainannot')\n",
    "if not os.path.exists(masks_path):\n",
    "    os.mkdir(masks_path)\n",
    "train_path = os.path.join(path, 'train')\n",
    "if not os.path.exists(images_path):\n",
    "    os.mkdir(images_path)\n",
    "testmasks_path = os.path.join(path, 'testannot')\n",
    "if not os.path.exists(testmasks_path):\n",
    "    os.mkdir(testmasks_path)\n",
    "test_path = os.path.join(path, 'test')\n",
    "if not os.path.exists(test_path):\n",
    "    os.mkdir(test_path)    \n",
    "valmasks_path = os.path.join(path, 'valannot')\n",
    "if not os.path.exists(valmasks_path):\n",
    "    os.mkdir(valmasks_path)\n",
    "val_path = os.path.join(path, 'val')\n",
    "if not os.path.exists(val_path):\n",
    "    os.mkdir(val_path)\n",
    "    \n",
    "test_items = random.sample(file_list, 15)\n",
    "val_items = random.sample(test_items, 5)"
   ]
  },
  {
   "cell_type": "code",
   "execution_count": 33,
   "metadata": {},
   "outputs": [],
   "source": [
    "for i in test_items:\n",
    "    os.rename(os.path.join(train_path, i), os.path.join(test_path, i))\n",
    "    os.rename(os.path.join(masks_path, i), os.path.join(testmasks_path, i))    "
   ]
  },
  {
   "cell_type": "code",
   "execution_count": 34,
   "metadata": {},
   "outputs": [],
   "source": [
    "for j in val_items:\n",
    "    os.rename(os.path.join(test_path, j), os.path.join(val_path, j))\n",
    "    os.rename(os.path.join(testmasks_path, j), os.path.join(valmasks_path, j)) "
   ]
  }
 ],
 "metadata": {
  "kernelspec": {
   "display_name": "Python 3",
   "language": "python",
   "name": "python3"
  },
  "language_info": {
   "codemirror_mode": {
    "name": "ipython",
    "version": 3
   },
   "file_extension": ".py",
   "mimetype": "text/x-python",
   "name": "python",
   "nbconvert_exporter": "python",
   "pygments_lexer": "ipython3",
   "version": "3.6.5"
  }
 },
 "nbformat": 4,
 "nbformat_minor": 2
}
