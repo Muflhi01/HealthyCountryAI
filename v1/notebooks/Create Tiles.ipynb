{
 "cells": [
  {
   "cell_type": "code",
   "execution_count": null,
   "metadata": {
    "scrolled": true
   },
   "outputs": [],
   "source": [
    "%run Common.ipynb"
   ]
  },
  {
   "cell_type": "code",
   "execution_count": null,
   "metadata": {
    "scrolled": true
   },
   "outputs": [],
   "source": [
    "import datetime, imageio, sys\n",
    "\n",
    "import numpy as np\n",
    "import matplotlib.pyplot as plt\n",
    "\n",
    "from azure.cognitiveservices.vision.customvision.training import CustomVisionTrainingClient\n",
    "from azure.cognitiveservices.vision.customvision.training.models import ImageFileCreateEntry\n",
    "from PIL import Image"
   ]
  },
  {
   "cell_type": "code",
   "execution_count": null,
   "metadata": {
    "scrolled": true
   },
   "outputs": [],
   "source": [
    "%matplotlib inline"
   ]
  },
  {
   "cell_type": "markdown",
   "metadata": {},
   "source": [
    "### Custom Vision"
   ]
  },
  {
   "cell_type": "code",
   "execution_count": null,
   "metadata": {
    "scrolled": true
   },
   "outputs": [],
   "source": [
    "ENDPOINT = 'https://australiaeast.api.cognitive.microsoft.com/'\n",
    "\n",
    "trainer = CustomVisionTrainingClient(custom_vision_training_key, endpoint=ENDPOINT)\n",
    "\n",
    "projects = trainer.get_projects()"
   ]
  },
  {
   "cell_type": "code",
   "execution_count": null,
   "metadata": {},
   "outputs": [],
   "source": [
    "for project in projects:\n",
    "    print(project.id)\n",
    "    print(project.name)"
   ]
  },
  {
   "cell_type": "markdown",
   "metadata": {},
   "source": [
    "### Blob Storage"
   ]
  },
  {
   "cell_type": "code",
   "execution_count": null,
   "metadata": {},
   "outputs": [],
   "source": [
    "containers = blob_service_list_containers(healthy_habitat_ai_storage_account_name, healthy_habitat_ai_storage_account_key)\n",
    "\n",
    "for container_name in containers:\n",
    "    print(container_name)"
   ]
  },
  {
   "cell_type": "markdown",
   "metadata": {},
   "source": [
    "### Create regions"
   ]
  },
  {
   "cell_type": "code",
   "execution_count": null,
   "metadata": {
    "scrolled": true
   },
   "outputs": [],
   "source": [
    "for container_name in containers:\n",
    "    if container_name == 'site-season':\n",
    "        blobs = blob_service_list_blobs(healthy_habitat_ai_storage_account_name, healthy_habitat_ai_storage_account_key, container_name)\n",
    "\n",
    "        folders = set([blob.split('/')[0] for blob in blobs])\n",
    "\n",
    "        for folder in folders:\n",
    "            interim_folder_path = os.path.join(Path(os.getcwd()).parent, 'data', 'interim', container_name, folder)\n",
    "            if not os.path.exists(interim_folder_path):\n",
    "                os.makedirs(interim_folder_path)\n",
    "\n",
    "        for blob_name in blobs:\n",
    "            folder = blob_name.split('/')[0]\n",
    "            file = blob_name.split('/')[1]\n",
    "            \n",
    "            filter = \"PartitionKey eq '{0}' and RowKey eq '{1}'\".format(folder, file)\n",
    "            \n",
    "            entities = table_service_query_entities(healthy_habitat_ai_storage_account_name, healthy_habitat_ai_storage_account_key, healthy_habitat_ai_processed_table_name, filter)\n",
    "\n",
    "            count = len([entity for entity in entities])\n",
    "\n",
    "            if count == 0:\n",
    "                print('Processing {0}'.format(blob_name))\n",
    "                file_path = os.path.join(interim_folder_path, file)\n",
    "\n",
    "                if not os.path.exists(file_path):\n",
    "                    blob_service_get_blob_to_path(healthy_habitat_ai_storage_account_name, healthy_habitat_ai_storage_account_key, container_name, blob_name, file_path)\n",
    "\n",
    "                start = datetime.datetime.now()\n",
    "                \n",
    "                image = imageio.imread(file_path)\n",
    "                \n",
    "                stop = datetime.datetime.now()\n",
    "                print((stop - start).total_seconds())\n",
    "                \n",
    "                image = image[:,:,0:3]\n",
    "                image_shape = image.shape\n",
    "                print(image_shape)\n",
    "                \n",
    "                height = 228\n",
    "                width = 304\n",
    "\n",
    "                count = 0\n",
    "\n",
    "                for y in range(0, image_shape[0], height):\n",
    "                    for x in range(0, image_shape[1], width):\n",
    "                        region = image[y:y + height, x:x + width]\n",
    "                        \n",
    "                        print('({0}, {1})({2}, {3})'.format(y, y + height, x, x + width))\n",
    "                        \n",
    "                        file_name = '{0}_Region_{1}.jpg'.format(file.split('.')[0], count)\n",
    "\n",
    "                        buffer = io.BytesIO()\n",
    "                        Image.fromarray(region).save(buffer, format='JPEG')\n",
    "\n",
    "                        images = []\n",
    "\n",
    "                        images.append(ImageFileCreateEntry(name=file_name, contents=buffer.getvalue()))\n",
    "\n",
    "                        print('Uploading to Classification Project...')\n",
    "                        result = trainer.create_images_from_files(custom_vision_para_grass_project_id, images=images)\n",
    "\n",
    "                        if not result.is_batch_successful:\n",
    "                            for image_create_result in result.images:\n",
    "                                print(\"Image status: \", image_create_result.status)\n",
    "                                \n",
    "                        print('Uploading to Object Detection Project...')\n",
    "                        result = trainer.create_images_from_files(custom_vision_magpie_geese_project_id, images=images)\n",
    "\n",
    "                        if not result.is_batch_successful:\n",
    "                            for image_create_result in result.images:\n",
    "                                print(\"Image status: \", image_create_result.status)\n",
    "\n",
    "                        count += 1\n",
    "\n",
    "                entity = {'PartitionKey': folder, 'RowKey': file}\n",
    "                table_service_insert(healthy_habitat_ai_storage_account_name, healthy_habitat_ai_storage_account_key, healthy_habitat_ai_processed_table_name, entity)\n",
    "                \n",
    "                os.remove(file_path)\n",
    "                print(count)"
   ]
  },
  {
   "cell_type": "code",
   "execution_count": null,
   "metadata": {
    "scrolled": true
   },
   "outputs": [],
   "source": [
    "classification_tagged_image_count = trainer.get_tagged_image_count(custom_vision_para_grass_project_id)\n",
    "print('Classification Tagged image count:', classification_tagged_image_count)\n",
    "\n",
    "classification_untagged_image_count = trainer.get_untagged_image_count(custom_vision_para_grass_project_id)\n",
    "print('Classification Untagged image count:', classification_untagged_image_count)\n",
    "\n",
    "print('Classification Image count', classification_tagged_image_count + classification_untagged_image_count)\n",
    "\n",
    "object_detection_tagged_image_count = trainer.get_tagged_image_count(custom_vision_magpie_geese_project_id)\n",
    "print('Object Detection Tagged image count:', object_detection_tagged_image_count)\n",
    "\n",
    "object_detection_untagged_image_count = trainer.get_untagged_image_count(custom_vision_magpie_geese_project_id)\n",
    "print('Object Detection Untagged image count:', object_detection_untagged_image_count)\n",
    "\n",
    "print('Object Detection Image count', object_detection_tagged_image_count + object_detection_untagged_image_count)"
   ]
  },
  {
   "cell_type": "code",
   "execution_count": null,
   "metadata": {},
   "outputs": [],
   "source": []
  }
 ],
 "metadata": {
  "kernelspec": {
   "display_name": "Python 3",
   "language": "python",
   "name": "python3"
  },
  "language_info": {
   "codemirror_mode": {
    "name": "ipython",
    "version": 3
   },
   "file_extension": ".py",
   "mimetype": "text/x-python",
   "name": "python",
   "nbconvert_exporter": "python",
   "pygments_lexer": "ipython3",
   "version": "3.6.5"
  }
 },
 "nbformat": 4,
 "nbformat_minor": 4
}
